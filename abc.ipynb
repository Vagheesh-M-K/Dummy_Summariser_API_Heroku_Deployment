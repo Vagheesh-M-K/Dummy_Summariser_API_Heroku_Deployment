{
 "cells": [
  {
   "cell_type": "code",
   "execution_count": 2,
   "metadata": {},
   "outputs": [
    {
     "name": "stderr",
     "output_type": "stream",
     "text": [
      "No model was supplied, defaulted to sshleifer/distilbart-cnn-12-6 and revision a4f8f3e (https://huggingface.co/sshleifer/distilbart-cnn-12-6).\n",
      "Using a pipeline without specifying a model name and revision in production is not recommended.\n"
     ]
    },
    {
     "name": "stdout",
     "output_type": "stream",
     "text": [
      "WARNING:tensorflow:From g:\\Text_Summariser Project - E2E\\venv\\Lib\\site-packages\\tf_keras\\src\\losses.py:2976: The name tf.losses.sparse_softmax_cross_entropy is deprecated. Please use tf.compat.v1.losses.sparse_softmax_cross_entropy instead.\n",
      "\n"
     ]
    }
   ],
   "source": [
    "from transformers import pipeline\n",
    "\n",
    "pipe = pipeline(task = \"summarization\")"
   ]
  },
  {
   "cell_type": "code",
   "execution_count": 3,
   "metadata": {},
   "outputs": [
    {
     "name": "stderr",
     "output_type": "stream",
     "text": [
      "Your max_length is set to 142, but your input_length is only 55. Since this is a summarization task, where outputs shorter than the input are typically wanted, you might consider decreasing max_length manually, e.g. summarizer('...', max_length=27)\n"
     ]
    },
    {
     "data": {
      "text/plain": [
       "[{'summary_text': ' On some OSes (Windows), just running pip directly can create a file lock on the executable, which would prevent updating it . By calling Python and telling it to load the module directly, you avoid accessing the executable . I believe this is safer is because on some Windows OSes, it can also create a lock .'}]"
      ]
     },
     "execution_count": 3,
     "metadata": {},
     "output_type": "execute_result"
    }
   ],
   "source": [
    "pipe(\"I believe `the reason this is safer is because on some OSes (Windows), just running pip directly can create a file lock on the executable, which would prevent updating it. By calling Python and telling it to load the module directly, you avoid accessing the executable.\")"
   ]
  },
  {
   "cell_type": "code",
   "execution_count": 4,
   "metadata": {},
   "outputs": [],
   "source": [
    "import transformers"
   ]
  },
  {
   "cell_type": "code",
   "execution_count": 5,
   "metadata": {},
   "outputs": [
    {
     "name": "stderr",
     "output_type": "stream",
     "text": [
      "g:\\Text_Summariser Project - E2E\\venv\\Lib\\site-packages\\tqdm\\auto.py:21: TqdmWarning: IProgress not found. Please update jupyter and ipywidgets. See https://ipywidgets.readthedocs.io/en/stable/user_install.html\n",
      "  from .autonotebook import tqdm as notebook_tqdm\n"
     ]
    }
   ],
   "source": [
    "from transformers import AutoModelForSeq2SeqLM\n",
    "model = AutoModelForSeq2SeqLM.from_pretrained('Falconsai/text_summarization')"
   ]
  },
  {
   "cell_type": "code",
   "execution_count": 8,
   "metadata": {},
   "outputs": [
    {
     "name": "stdout",
     "output_type": "stream",
     "text": [
      "WARNING:tensorflow:From g:\\Text_Summariser Project - E2E\\venv\\Lib\\site-packages\\tf_keras\\src\\losses.py:2976: The name tf.losses.sparse_softmax_cross_entropy is deprecated. Please use tf.compat.v1.losses.sparse_softmax_cross_entropy instead.\n",
      "\n"
     ]
    },
    {
     "name": "stderr",
     "output_type": "stream",
     "text": [
      "g:\\Text_Summariser Project - E2E\\venv\\Lib\\site-packages\\huggingface_hub\\file_download.py:148: UserWarning: `huggingface_hub` cache-system uses symlinks by default to efficiently store duplicated files but your machine does not support them in C:\\Users\\VAGHEESH\\.cache\\huggingface\\hub\\models--Falconsai--text_summarization. Caching files will still work but in a degraded version that might require more space on your disk. This warning can be disabled by setting the `HF_HUB_DISABLE_SYMLINKS_WARNING` environment variable. For more details, see https://huggingface.co/docs/huggingface_hub/how-to-cache#limitations.\n",
      "To support symlinks on Windows, you either need to activate Developer Mode or to run Python as an administrator. In order to see activate developer mode, see this article: https://docs.microsoft.com/en-us/windows/apps/get-started/enable-your-device-for-development\n",
      "  warnings.warn(message)\n"
     ]
    },
    {
     "data": {
      "text/plain": [
       "<transformers.pipelines.text2text_generation.SummarizationPipeline at 0x26d060a3550>"
      ]
     },
     "execution_count": 8,
     "metadata": {},
     "output_type": "execute_result"
    }
   ],
   "source": [
    "from transformers import pipeline\n",
    "pipe = pipeline(task = \"summarization\", model = \"Falconsai/text_summarization\")\n",
    "pipe"
   ]
  },
  {
   "cell_type": "code",
   "execution_count": 9,
   "metadata": {},
   "outputs": [
    {
     "name": "stderr",
     "output_type": "stream",
     "text": [
      "Your max_length is set to 200, but your input_length is only 132. Since this is a summarization task, where outputs shorter than the input are typically wanted, you might consider decreasing max_length manually, e.g. summarizer('...', max_length=66)\n"
     ]
    },
    {
     "data": {
      "text/plain": [
       "[{'summary_text': 'HTTP is a client-server protocol: requests are sent by one entity, the user-agent (or a proxy on behalf of it) Each individual request is sent to a server, which handles it . Between the client and the server there are numerous entities, collectively called proxies, which perform different operations .'}]"
      ]
     },
     "execution_count": 9,
     "metadata": {},
     "output_type": "execute_result"
    }
   ],
   "source": [
    "pipe(\"\"\"HTTP is a client-server protocol: requests are sent by one entity, the user-agent (or a proxy on behalf of it). Most of the time the user-agent is a Web browser, but it can be anything, for example, a robot that crawls the Web to populate and maintain a search engine index.\n",
    "\n",
    "Each individual request is sent to a server, which handles it and provides an answer called the response. Between the client and the server there are numerous entities, collectively called proxies, which perform different operations and act as gateways or caches, for example.\n",
    "\n",
    "\"\"\")"
   ]
  },
  {
   "cell_type": "code",
   "execution_count": 10,
   "metadata": {},
   "outputs": [
    {
     "name": "stderr",
     "output_type": "stream",
     "text": [
      "Token indices sequence length is longer than the specified maximum sequence length for this model (1218 > 512). Running this sequence through the model will result in indexing errors\n"
     ]
    }
   ],
   "source": [
    "answer = pipe(\"\"\" Jaikishan Kakubhai Shroff[1] (born 1 February 1957), known by his screen name Jackie Shroff, is an Indian actor and former model from Mumbai, Maharashtra; who primarily works in Hindi film industry. In a career spanning over four decades, he has appeared in over 220 films in 13 languages.[n 1][2][3] He has received several accolades including four Filmfare Awards. Shroff established himself as one of the leading actors of Indian cinema of the 1980s and the 1990s.\n",
    "\n",
    "After an uncredited small appearance in Swami Dada (1982), Shroff made his lead debut with Subhash Ghai's blockbuster actioner Hero (1983), which made him an overnight star.[4][5] He went onto establish himself with hit films, such as Teri Meherbaniyan (1985), Karma (1986), Kudrat Ka Kanoon, Jawab Hum Denge (both 1987), Ram Lakhan and Parinda (both 1989), winning the Filmfare Award for Best Actor for the lattermost.[6] His other critical and commercial successes, include Vardi, Tridev (both 1989), Baap Numbri Beta Dus Numbri (1990), Angaar (1992), Khalnayak, Gardish (both 1993), Rangeela (1995), Agni Sakshi (1996), Border (1997) and Bandhan (1998).[7][8]\n",
    "\n",
    "In the 2000s, Shroff took on more supporting and negative roles in notable ventures, such as Refugee, Mission Kashmir (both 2000), Devdas (2002), Hulchul (2004), Bhagam Bhag (2006), Apna Sapna Money Money (2006), Raaz: The Mystery Continues (2009), Dhoom 3 (2013), Happy New Year (2014), Housefull 3 (2016), Bharat (2019) and Sooryavanshi (2021). Shroff's work in other languages include - Punjabi film Sardar Saab (2017), Konkani film Soul Curry (2017), Tamil films Bigil (2019), Jailer (2023) and Telugu film Saaho (2019).\n",
    "\n",
    "In addition to his acting career, Shroff is an environmentalist. He is married to model and producer Ayesha Dutt, with whom he has two children including actor Tiger Shroff.[9]\n",
    "\n",
    "Early life and initial work\n",
    "Shroff was born as Jaikishan Kakubhai Shroff or Saraf[10][a] on 1 February 1957 in Bombay (present Mumbai), Bombay State, India.[11][12] His father, Kakubhai Haribhai Shroff, was a Gujarati, while his mother was a Turkmen who fled from Kazakhstan (then the Kazakh Soviet Socialist Republic part of the Soviet Union) during a coup according to Shroff.[b][13][14] His maternal grandmother escaped to Ladakh along with her seven daughters when there was a coup in Kazakhstan. They migrated to Delhi, and finally to Mumbai.[13][14]\n",
    "\n",
    "His father came from a Gujarati family of merchants and traders. However, they lost all of their money in the stock market and his father had to leave home at the age of 17. His father met his mother when both were teenagers and got married.[13]\n",
    "\n",
    "Jackie Shroff dropped out from junior college after finishing his 11th class. He was raised in a neighbourhood in \"Teen batti\" area of Mumbai. In childhood, he fought many street fights for his friends and often got beat up. His father Kakubhai was an astrologer. After 11th grade, he did nothing for two years and later tried to get a job in the Navy and later in Air India as a Purser but did not succeed. He then received a diploma in travel and tourism and landed a job in a travel agency, when an accountant from an ad agency asked him to model. He began modelling and left the travel agency job. Aasha K Chandra, who was running an acting school, asked Shroff to join her class. Initially Shroff refused her but after she said that Dev Anand's son Suneil Anand is also attending her class, Shroff enrolled there. Sunil Anand took Shroff to his father, and he (Dev Anand) gave him a minor role as Shakti Kapoor's gang member in Swami Dada (1982). Initially, Dev Anand selected him as a second lead, but after a week changed his mind and gave that role to Mithun Chakraborty. Subhash Ghai was hunting a new guy for his upcoming movie, he asked Ashok Khanna about it. Khanna took Shroff to Ghai, who signed Shroff as lead in Hero (1983), which upon release emerged as a hit.[10]\n",
    "\n",
    "As a youngster, he modelled in a few advertisements including Savage perfumes. It was one of his classmates in school who gave Shroff his name \"Jackie\" and then filmmaker Subhash Ghai stuck to this name when he launched him in the film Hero.[15][16] Shroff regularly revisits his childhood home in Teen Batti.[17]\"\"\")"
   ]
  },
  {
   "cell_type": "code",
   "execution_count": 16,
   "metadata": {},
   "outputs": [
    {
     "data": {
      "text/plain": [
       "\"Jaikishan Kakubhai Shroff (born 1 February 1957) is an Indian actor and former model from Mumbai, Maharashtra . In a career spanning over four decades, he has appeared in over 220 films in 13 languages . He established himself as one of the leading actors of Indian cinema of the 1980s and the 1990s . After an uncredited small appearance in Swami Dada (1982), Shreoff made his lead debut with Subhash Ghai's blockbuster action\""
      ]
     },
     "execution_count": 16,
     "metadata": {},
     "output_type": "execute_result"
    }
   ],
   "source": [
    "answer[0]['summary_text']"
   ]
  },
  {
   "cell_type": "code",
   "execution_count": 18,
   "metadata": {},
   "outputs": [],
   "source": [
    "import dotenv"
   ]
  },
  {
   "cell_type": "code",
   "execution_count": null,
   "metadata": {},
   "outputs": [],
   "source": [
    "from dotenv import load_dotenv\n"
   ]
  },
  {
   "cell_type": "code",
   "execution_count": 22,
   "metadata": {},
   "outputs": [],
   "source": [
    "from transformers import pipeline\n",
    "import os\n",
    "# os.environ['TF_ENABLE_ONEDNN_OPTS'] = '0'\n",
    "\n",
    "def summarize():\n",
    "    data = \"\"\" After an uncredited small appearance in Swami Dada (1982), \n",
    "    Shroff made his lead debut with Subhash Ghai's blockbuster actioner Her\n",
    "    o (1983), which made him an overnight star.[4][5] He went onto establish\n",
    "      himself with hit films, such as Teri Meherbaniyan (1985), Karma (1986),\n",
    "        Kudrat Ka Kanoon, Jawab Hum Denge (both 1987), Ram Lakhan and Parinda (b\n",
    "        oth 1989), winning the Filmfare Award for Best Actor for the lattermost.[\n",
    "            6] His other critical and commercial successes, include Vardi, Tridev \n",
    "            (both 1989), Baap Numbri Beta Dus Numbri (1990), Angaar (1992), Khal\n",
    "            nayak, Gardish (both 1993), Rangeela (1995), Agni Sakshi (1996), Bor\n",
    "            der (1997) and Bandhan (1998).[7][8]\"\"\"\n",
    "    \n",
    "    pipe = pipeline(task = \"summarization\")\n",
    "    answer = pipe(data)\n",
    "    return answer[0]['summary_text']"
   ]
  },
  {
   "cell_type": "code",
   "execution_count": 23,
   "metadata": {},
   "outputs": [
    {
     "name": "stderr",
     "output_type": "stream",
     "text": [
      "No model was supplied, defaulted to sshleifer/distilbart-cnn-12-6 and revision a4f8f3e (https://huggingface.co/sshleifer/distilbart-cnn-12-6).\n",
      "Using a pipeline without specifying a model name and revision in production is not recommended.\n"
     ]
    },
    {
     "data": {
      "text/plain": [
       "\" After an uncredited small appearance in Swami Dada (1982), Shroff made his lead debut with Subhash Ghai's blockbuster actioner Her (1983), which made him an overnight star . He went onto establish himself with hit films such as Teri Meherbaniyan (1985), Karma (1986), Karma, Ram Lakhan and Parinda, winning the Filmfare Award for Best Actor for the lattermost .\""
      ]
     },
     "execution_count": 23,
     "metadata": {},
     "output_type": "execute_result"
    }
   ],
   "source": [
    "summarize()"
   ]
  },
  {
   "cell_type": "code",
   "execution_count": 24,
   "metadata": {},
   "outputs": [],
   "source": [
    "def summarize():\n",
    "    data = \"\"\" After an uncredited small appearance in Swami Dada (1982), \n",
    "    Shroff made his lead debut with Subhash Ghai's blockbuster actioner Her\n",
    "    o (1983), which made him an overnight star.[4][5] He went onto establish\n",
    "      himself with hit films, such as Teri Meherbaniyan (1985), Karma (1986),\n",
    "        Kudrat Ka Kanoon, Jawab Hum Denge (both 1987), Ram Lakhan and Parinda (b\n",
    "        oth 1989), winning the Filmfare Award for Best Actor for the lattermost.[\n",
    "            6] His other critical and commercial successes, include Vardi, Tridev \n",
    "            (both 1989), Baap Numbri Beta Dus Numbri (1990), Angaar (1992), Khal\n",
    "            nayak, Gardish (both 1993), Rangeela (1995), Agni Sakshi (1996), Bor\n",
    "            der (1997) and Bandhan (1998).[7][8]\"\"\"\n",
    "    \n",
    "    pipe = pipeline(task = \"summarization\")\n",
    "    answer = pipe(data)\n",
    "    return answer[0]['summary_text']"
   ]
  },
  {
   "cell_type": "code",
   "execution_count": 28,
   "metadata": {},
   "outputs": [],
   "source": [
    "import pickle\n",
    "pickle_out = open(\"HF_summarizer.pkl\",\"wb\")\n",
    "pickle.dump(pipe, pickle_out)\n",
    "pickle_out.close()"
   ]
  },
  {
   "cell_type": "code",
   "execution_count": 30,
   "metadata": {},
   "outputs": [
    {
     "data": {
      "text/plain": [
       "transformers.pipelines.text2text_generation.SummarizationPipeline"
      ]
     },
     "execution_count": 30,
     "metadata": {},
     "output_type": "execute_result"
    }
   ],
   "source": [
    "type(pipe)"
   ]
  },
  {
   "cell_type": "code",
   "execution_count": 31,
   "metadata": {},
   "outputs": [
    {
     "data": {
      "text/plain": [
       "transformers.pipelines.text2text_generation.SummarizationPipeline"
      ]
     },
     "execution_count": 31,
     "metadata": {},
     "output_type": "execute_result"
    }
   ],
   "source": [
    "import pickle\n",
    "with open('HF_summarizer.pkl', 'rb') as f:\n",
    "    HF_summarizer = pickle.load(f)\n",
    "type(HF_summarizer)"
   ]
  }
 ],
 "metadata": {
  "kernelspec": {
   "display_name": "Python 3",
   "language": "python",
   "name": "python3"
  },
  "language_info": {
   "codemirror_mode": {
    "name": "ipython",
    "version": 3
   },
   "file_extension": ".py",
   "mimetype": "text/x-python",
   "name": "python",
   "nbconvert_exporter": "python",
   "pygments_lexer": "ipython3",
   "version": "3.11.9"
  }
 },
 "nbformat": 4,
 "nbformat_minor": 2
}
